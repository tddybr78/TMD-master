{
 "cells": [
  {
   "cell_type": "markdown",
   "metadata": {
    "code_folding": [
     0
    ]
   },
   "source": [
    "#TMD SIDIS"
   ]
  },
  {
   "cell_type": "markdown",
   "metadata": {},
   "source": [
    "##Specify path to TMD libs"
   ]
  },
  {
   "cell_type": "code",
   "execution_count": 2,
   "metadata": {
    "collapsed": true
   },
   "outputs": [],
   "source": [
    "root='../../'"
   ]
  },
  {
   "cell_type": "markdown",
   "metadata": {},
   "source": [
    "##load libraries"
   ]
  },
  {
   "cell_type": "code",
   "execution_count": 3,
   "metadata": {
    "collapsed": false
   },
   "outputs": [],
   "source": [
    "import sys,os\n",
    "sys.path.insert(1,root)\n",
    "import pylab as py\n",
    "import numpy as np\n",
    "%matplotlib inline  \n",
    "from TMDPDF import TMDPDF\n",
    "from StrongCoupling import StrongCoupling\n",
    "from tools import ProgressBar,tex\n",
    "from DrellYan import DrellYan\n",
    "from CollinearPDF import Cteq6PDF,ToyPDF\n",
    "from FF.FF import FragFuncs\n",
    "from SIDIS_beta import SIDIS_L,SIDIS_FO,SIDIS_ASY"
   ]
  },
  {
   "cell_type": "markdown",
   "metadata": {},
   "source": [
    "##initialize collinear PDF "
   ]
  },
  {
   "cell_type": "code",
   "execution_count": 4,
   "metadata": {
    "collapsed": false
   },
   "outputs": [],
   "source": [
    "CPDF=Cteq6PDF(root)\n",
    "CFF=FragFuncs(root+'FF/tables/PILO.TAB')"
   ]
  },
  {
   "cell_type": "code",
   "execution_count": 5,
   "metadata": {
    "collapsed": true
   },
   "outputs": [],
   "source": [
    "sidisL=SIDIS_L(CPDF,CFF)\n",
    "sidisFO=SIDIS_FO(CPDF,CFF)\n",
    "sidisASY=SIDIS_ASY(CPDF,CFF)"
   ]
  },
  {
   "cell_type": "markdown",
   "metadata": {},
   "source": [
    "\n",
    "## Setup Non-Perturbative parts"
   ]
  },
  {
   "cell_type": "code",
   "execution_count": 6,
   "metadata": {
    "collapsed": false
   },
   "outputs": [],
   "source": [
    "def PDFNP(x,zetaF,bT2):\n",
    "    arg = -0.25*(0.19*np.log(zetaF/(1.0)))*bT2\n",
    "    arg+= -1.0*((0.013*(1-x)**3)/x)*bT2\n",
    "    return np.exp(arg)\n",
    "\n",
    "def FFNP(z,zetaD,bT2):\n",
    "    arg = -0.25*(0.19*np.log(zetaD/(1.0)))*bT2\n",
    "    arg+= -(0.1)*bT2                                           \n",
    "    return np.exp(arg)\n",
    "\n",
    "sidisL.TPDF.D['NP model'] = PDFNP\n",
    "sidisL.TFF.D['NP model'] = FFNP\n",
    "sidisL.set_bT2max(np.sqrt(1.5))"
   ]
  },
  {
   "cell_type": "markdown",
   "metadata": {},
   "source": [
    "##Setup Kinematics"
   ]
  },
  {
   "cell_type": "code",
   "execution_count": 7,
   "metadata": {
    "collapsed": false
   },
   "outputs": [],
   "source": [
    "Q2=5.7**2\n",
    "z=0.8\n",
    "x=0.0049\n",
    "s=300.0\n",
    "y=(Q2)/(x*s)\n",
    "charge=0\n",
    "qTs=np.linspace(0.1,10.,40)"
   ]
  },
  {
   "cell_type": "code",
   "execution_count": 8,
   "metadata": {
    "collapsed": false
   },
   "outputs": [
    {
     "data": {
      "text/plain": [
       "[<matplotlib.lines.Line2D at 0x7f28c156b590>]"
      ]
     },
     "execution_count": 8,
     "metadata": {},
     "output_type": "execute_result"
    },
    {
     "data": {
      "image/png": "[encoded data removed]",
      "text/plain": [
       "<matplotlib.figure.Figure at 0x7f28c14c14d0>"
      ]
     },
     "metadata": {},
     "output_type": "display_data"
    }
   ],
   "source": [
    "BT=np.linspace(1e-4,2)\n",
    "FD=[sidisL.get_FD_bT_space(x,y,z,Q2,Q2,Q2,Q2,bT*bT,charge) for bT in BT]\n",
    "py.plot(BT,FD)"
   ]
  },
  {
   "cell_type": "markdown",
   "metadata": {},
   "source": [
    "## Compute L part"
   ]
  },
  {
   "cell_type": "code",
   "execution_count": 10,
   "metadata": {
    "collapsed": false
   },
   "outputs": [
    {
     "name": "stdout",
     "output_type": "stream",
     "text": [
      "[**************************100%********]  computing with FFT   40 of 40 complete\n"
     ]
    }
   ],
   "source": [
    "sidisL.setup_hankel(N=70,h=1e-3)\n",
    "bar=ProgressBar(qTs.size,'computing with FFT ')\n",
    "L=[]\n",
    "cnt=0\n",
    "for qT in qTs: \n",
    "    L.append(sidisL.get_L(x,y,z,Q2,Q2,Q2,Q2,qT,charge)) \n",
    "    bar.animate(cnt+1)\n",
    "    cnt+=1"
   ]
  },
  {
   "cell_type": "markdown",
   "metadata": {},
   "source": [
    "## Compute FO & ASY"
   ]
  },
  {
   "cell_type": "code",
   "execution_count": 11,
   "metadata": {
    "collapsed": false
   },
   "outputs": [
    {
     "name": "stdout",
     "output_type": "stream",
     "text": [
      "[***********************100%***********]  computing FO   40 of 40 complete\n"
     ]
    }
   ],
   "source": [
    "bar=ProgressBar(qTs.size,'computing FO ')\n",
    "FO=[]\n",
    "cnt=0\n",
    "for qT in qTs: \n",
    "    FO.append(sidisFO.get_FO(x,y,z,Q2,qT**2,Q2,Q2,charge)) \n",
    "    bar.animate(cnt+1)\n",
    "    cnt+=1\n",
    "FO=np.array(FO)"
   ]
  },
  {
   "cell_type": "code",
   "execution_count": 12,
   "metadata": {
    "collapsed": false
   },
   "outputs": [
    {
     "name": "stdout",
     "output_type": "stream",
     "text": [
      "[************************100%**********]  computing ASY   40 of 40 complete\n"
     ]
    }
   ],
   "source": [
    "bar=ProgressBar(qTs.size,'computing ASY ')\n",
    "ASY=[]\n",
    "cnt=0\n",
    "for qT in qTs: \n",
    "    ASY.append(sidisASY.get_ASY(x,y,z,Q2,qT**2,Q2,Q2,charge)) \n",
    "    bar.animate(cnt+1)\n",
    "    cnt+=1\n",
    "ASY=np.array(ASY)"
   ]
  },
  {
   "cell_type": "code",
   "execution_count": 13,
   "metadata": {
    "collapsed": false,
    "scrolled": true
   },
   "outputs": [
    {
     "data": {
      "text/plain": [
       "[]"
      ]
     },
     "execution_count": 13,
     "metadata": {},
     "output_type": "execute_result"
    },
    {
     "data": {
      "image/png": "[encoded data removed]",
      "text/plain": [
       "<matplotlib.figure.Figure at 0x7f28c157a790>"
      ]
     },
     "metadata": {},
     "output_type": "display_data"
    }
   ],
   "source": [
    "ax=py.subplot(111)\n",
    "ax.plot(qTs,L,'m-',lw=2,label='L')\n",
    "ax.plot(qTs,FO,'b-',lw=2,label='FO')\n",
    "ax.plot(qTs,ASY,'r-',lw=2,label='ASY')\n",
    "ax.plot(qTs,FO-ASY,'g-',lw=2,label='FO-ASY')\n",
    "#ax.set_ylim(-2,100)\n",
    "#ax.set_xlabel(tex('q_T(GeV)'),size=20)\n",
    "#ax.set_ylabel(tex('d\\sig/'),size=20)\n",
    "ax.legend(frameon=0,fontsize=10)\n",
    "#ax.axhline(y=0,c='k',alpha=0.5)\n",
    "ax.semilogy()"
   ]
  },
  {
   "cell_type": "code",
   "execution_count": null,
   "metadata": {
    "collapsed": true
   },
   "outputs": [],
   "source": []
  }
 ],
 "metadata": {
  "kernelspec": {
   "display_name": "Python 2",
   "language": "python",
   "name": "python2"
  },
  "language_info": {
   "codemirror_mode": {
    "name": "ipython",
    "version": 2
   },
   "file_extension": ".py",
   "mimetype": "text/x-python",
   "name": "python",
   "nbconvert_exporter": "python",
   "pygments_lexer": "ipython2",
   "version": "2.7.9"
  }
 },
 "nbformat": 4,
 "nbformat_minor": 0
}
