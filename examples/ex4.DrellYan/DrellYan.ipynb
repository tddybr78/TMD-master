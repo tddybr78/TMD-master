{
 "cells": [
  {
   "cell_type": "markdown",
   "metadata": {
    "code_folding": [
     0
    ]
   },
   "source": [
    "#TMD Drell Yan"
   ]
  },
  {
   "cell_type": "markdown",
   "metadata": {},
   "source": [
    "##Specify path to TMD libs"
   ]
  },
  {
   "cell_type": "code",
   "execution_count": 1,
   "metadata": {
    "collapsed": true
   },
   "outputs": [],
   "source": [
    "#root='/Users/nobuosato/Dropbox/work/python_TMD/'\n",
    "root='../../'"
   ]
  },
  {
   "cell_type": "markdown",
   "metadata": {},
   "source": [
    "##load libraries"
   ]
  },
  {
   "cell_type": "code",
   "execution_count": 2,
   "metadata": {
    "code_folding": [
     0
    ],
    "collapsed": false
   },
   "outputs": [],
   "source": [
    "import sys,os\n",
    "sys.path.insert(1,root)\n",
    "import pylab as py\n",
    "import numpy as np\n",
    "%matplotlib inline  \n",
    "from TMDPDF import TMDPDF\n",
    "from StrongCoupling import StrongCoupling\n",
    "from tools import ProgressBar,tex\n",
    "from DrellYan import DrellYan\n",
    "from CollinearPDF import Cteq6PDF,FakePDF"
   ]
  },
  {
   "cell_type": "markdown",
   "metadata": {},
   "source": [
    "##initialize collinear PDF "
   ]
  },
  {
   "cell_type": "code",
   "execution_count": 3,
   "metadata": {
    "collapsed": false
   },
   "outputs": [],
   "source": [
    "if 1: CPDF=Cteq6PDF(root)\n",
    "if 0: CPDF=FakePDF()"
   ]
  },
  {
   "cell_type": "markdown",
   "metadata": {},
   "source": [
    "##Setup Kinematics"
   ]
  },
  {
   "cell_type": "code",
   "execution_count": 4,
   "metadata": {
    "collapsed": true
   },
   "outputs": [],
   "source": [
    "Q=91.1876\n",
    "RS=1900.0\n",
    "y=0 "
   ]
  },
  {
   "cell_type": "markdown",
   "metadata": {},
   "source": [
    "##initialize Drell Yan instances. We can setup each instace with different parameters etc. Available pdfsets: 'fake' and 'cteq6'"
   ]
  },
  {
   "cell_type": "code",
   "execution_count": 5,
   "metadata": {
    "collapsed": false
   },
   "outputs": [],
   "source": [
    "DY1=DrellYan(CPDF)\n",
    "DY2=DrellYan(CPDF)"
   ]
  },
  {
   "cell_type": "markdown",
   "metadata": {},
   "source": [
    "##Setup parameters for DY1"
   ]
  },
  {
   "cell_type": "code",
   "execution_count": 6,
   "metadata": {
    "collapsed": false
   },
   "outputs": [],
   "source": [
    "Q0=1.3\n",
    "b0=0.86*Q0\n",
    " \n",
    "DY1.TMD.D['bT2max']=0.5**2\n",
    "DY1.TMD.D['Q02']=Q0**2\n",
    "DY1.TMD.D['C3']=b0\n",
    "DY1.TMD.D['zetaF0']=4*DY1.TMD.D['Q02']\n",
    "a1= 0.21\n",
    "a2= 0.68\n",
    "a3=-0.6*0.21\n",
    "\n",
    "DY1.TMD.D['NP model']=lambda x,mu2,bT2: np.exp(-0.5*( a1 + a2*np.log(mu2**0.5/3.2) + a3*np.log(100*x) )*bT2)"
   ]
  },
  {
   "cell_type": "markdown",
   "metadata": {},
   "source": [
    "##Setup parameters for DY2"
   ]
  },
  {
   "cell_type": "code",
   "execution_count": 7,
   "metadata": {
    "collapsed": true
   },
   "outputs": [],
   "source": [
    "Q0=1.3\n",
    "b0=0.86*Q0\n",
    "\n",
    "DY2.TMD.D['bT2max']=1.5**2\n",
    "DY2.TMD.D['Q02']=Q0**2\n",
    "DY2.TMD.D['C3']=b0\n",
    "DY2.TMD.D['zetaF0']=4*DY2.TMD.D['Q02']\n",
    "b1= 0.201\n",
    "b2= 0.184\n",
    "b3=-0.026\n",
    "\n",
    "DY2.TMD.D['NP model']=lambda x,mu2,bT2: np.exp(-0.5*( b1 + b2*np.log(mu2**0.5/3.2) + b3*np.log(100*x) )*bT2)"
   ]
  },
  {
   "cell_type": "markdown",
   "metadata": {},
   "source": [
    "##define bT values to be computed"
   ]
  },
  {
   "cell_type": "code",
   "execution_count": 8,
   "metadata": {
    "collapsed": true
   },
   "outputs": [],
   "source": [
    "BT=np.linspace(1e-3,1.4,100)"
   ]
  },
  {
   "cell_type": "markdown",
   "metadata": {},
   "source": [
    "##compute bT*W for DY1 and store values in BTW1"
   ]
  },
  {
   "cell_type": "code",
   "execution_count": 9,
   "metadata": {
    "collapsed": false
   },
   "outputs": [
    {
     "name": "stdout",
     "output_type": "stream",
     "text": [
      "[**********************99%*************]  computing  99 of 100 complete\n"
     ]
    }
   ],
   "source": [
    "bar=ProgressBar(BT.size,'computing')\n",
    "BTW1=[]\n",
    "cnt=0\n",
    "for bT in BT: \n",
    "    BTW1.append(bT*DY1.get_L_bT_space(Q,RS,y,bT))\n",
    "    bar.animate(cnt)\n",
    "    cnt+=1"
   ]
  },
  {
   "cell_type": "markdown",
   "metadata": {},
   "source": [
    "##compute bT*W for DY2 and store values in BTW2"
   ]
  },
  {
   "cell_type": "code",
   "execution_count": 10,
   "metadata": {
    "collapsed": false
   },
   "outputs": [
    {
     "name": "stdout",
     "output_type": "stream",
     "text": [
      "[**********************99%*************]  computing  99 of 100 complete\n"
     ]
    }
   ],
   "source": [
    "bar=ProgressBar(BT.size,'computing')\n",
    "BTW2=[]\n",
    "cnt=0\n",
    "for bT in BT: \n",
    "    BTW2.append(bT*DY2.get_L_bT_space(Q,RS,y,bT))\n",
    "    bar.animate(cnt)\n",
    "    cnt+=1"
   ]
  },
  {
   "cell_type": "markdown",
   "metadata": {},
   "source": [
    "##make plot"
   ]
  },
  {
   "cell_type": "code",
   "execution_count": 11,
   "metadata": {
    "collapsed": false
   },
   "outputs": [
    {
     "data": {
      "text/plain": [
       "<matplotlib.legend.Legend at 0x105ff7690>"
      ]
     },
     "execution_count": 11,
     "metadata": {},
     "output_type": "execute_result"
    },
    {
     "data": {
      "image/png": "[encoded data removed]",
      "text/plain": [
       "<matplotlib.figure.Figure at 0x105ff7110>"
      ]
     },
     "metadata": {},
     "output_type": "display_data"
    }
   ],
   "source": [
    "py.figure(figsize=(8.5,5.5))\n",
    "ax=py.subplot(111)\n",
    "\n",
    "if 1: ax.plot(BT,BTW1,'m-.',lw=2,label=tex('b_{max}=%0.2f')%(DY1.TMD.D['bT2max']**0.5))\n",
    "if 1: ax.plot(BT,BTW2,'b--',lw=2,label=tex('b_{max}=%0.2f')%(DY2.TMD.D['bT2max']**0.5))\n",
    "\n",
    "ax.set_ylabel(tex('b_T\\\\tilde{W}\\;(nb/GeV)'),size=20)\n",
    "ax.set_xlabel(tex('b_T(GeV^{-1})'),size=20)\n",
    "ax.legend()"
   ]
  },
  {
   "cell_type": "code",
   "execution_count": null,
   "metadata": {
    "collapsed": true
   },
   "outputs": [],
   "source": []
  }
 ],
 "metadata": {
  "kernelspec": {
   "display_name": "Python 2",
   "language": "python",
   "name": "python2"
  },
  "language_info": {
   "codemirror_mode": {
    "name": "ipython",
    "version": 2
   },
   "file_extension": ".py",
   "mimetype": "text/x-python",
   "name": "python",
   "nbconvert_exporter": "python",
   "pygments_lexer": "ipython2",
   "version": "2.7.9"
  }
 },
 "nbformat": 4,
 "nbformat_minor": 0
}
